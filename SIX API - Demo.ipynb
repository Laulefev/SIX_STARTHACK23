{
 "cells": [
  {
   "cell_type": "markdown",
   "metadata": {},
   "source": [
    "# SIX API - Demo"
   ]
  },
  {
   "cell_type": "code",
   "execution_count": null,
   "metadata": {},
   "outputs": [],
   "source": [
    "import requests\n",
    "import urllib\n",
    "import json\n",
    "from IPython.core.display import display, HTML, JSON\n",
    "from types import SimpleNamespace\n",
    "import logging\n",
    "\n",
    "logger = logging.getLogger()\n",
    "logger.setLevel(logging.INFO) # CRITICAL, ERROR, WARNING, INFO, DEBUG, NOTSET\n",
    "\n",
    "display(HTML(\"<style>.container { width:90% !important; }</style>\"))\n",
    "\n",
    "class FinancialDataAPI:\n",
    "    def __init__(self):\n",
    "        self.url = 'https://web.api.six-group.com/api/findata'\n",
    "        \n",
    "        self.headers = {\n",
    "            \"content-type\": \"application/json\",\n",
    "            \"accept\": \"application/json\",\n",
    "            \"api-version\": \"2022-06-01\"\n",
    "        }\n",
    "        self.session = requests.session()\n",
    "        certificate_path = './ch52991-hackathon1'\n",
    "        self.session.cert = (f'{certificate_path}/signed-certificate.pem', f'{certificate_path}/private-key.pem')\n",
    "    \n",
    "    def http_request(self, end_point:str, query_string:dict) -> str:\n",
    "        # Make an HTTP request and send the raw response\n",
    "        try:\n",
    "            http_request = f\"{self.url}{end_point}?{urllib.parse.urlencode(query_string)}\"\n",
    "            \n",
    "            r = self.session.get(http_request, headers=self.headers) #, verify='./six-certificate/certificate.pem')\n",
    "            if str(r.status_code)[0] != \"2\":\n",
    "                logging.debug(f\"HTTP{r.status_code}: {r.content}\")\n",
    "            else:\n",
    "                logging.debug(f\"HTTP{r.status_code}: {json.dumps(json.loads(r.content), indent=2)}\")\n",
    "                \n",
    "            return r\n",
    "        except requests.exceptions.SSLError as err:\n",
    "            logging.error(f\"Error - {http_request}:\\r\\n{err}\")\n",
    "            raise(Exception(str(err)))\n",
    "\n",
    "    def http_request_with_scheme_id(self, end_point:str, scheme:str, ids:list) -> str:\n",
    "        query_string = query_string = { \n",
    "            'scheme': scheme,\n",
    "            'ids': \",\".join(ids)\n",
    "        }\n",
    "        return self.http_request(end_point, query_string)        \n",
    "            \n",
    "    def _convert_response_to_object(self, http_response):\n",
    "        if str(http_response.status_code)[0] == \"2\":\n",
    "            obj = json.loads(http_response.content, object_hook=lambda d: SimpleNamespace(**d))\n",
    "            return obj\n",
    "        return None\n",
    "            \n",
    "    def text_search(self, query:str) -> object:\n",
    "        end_point = \"/v1/searchInstruments\"\n",
    "        #end_point = \"/search/v1/\"\n",
    "        query_string = { 'query': query }\n",
    "        resp = self.http_request(end_point, query_string)\n",
    "        \n",
    "        return self._convert_response_to_object(resp)\n",
    "    \n",
    "    def instrument_summary(self, scheme:str, instruments: list):\n",
    "        end_point = \"/v1/instruments/referenceData/instrumentSummary\"\n",
    "        #end_point = \"/v1/summary/instruments\"\n",
    "        resp = self.http_request_with_scheme_id(end_point, scheme, instruments)\n",
    "        return self._convert_response_to_object(resp)\n",
    "\n",
    "    def instrument_symbology(self, scheme:str, instruments: list):\n",
    "        end_point = \"/v1/instruments/referenceData/instrumentSymbology\"\n",
    "        resp = self.http_request_with_scheme_id(end_point, scheme, instruments)\n",
    "        return self._convert_response_to_object(resp)\n",
    "\n",
    "    def instrument_BASELIII_HQLA_EU(self, scheme:str, instruments: list):\n",
    "        end_point = \"/v1/instruments/_regulatoryData/baseliiihqlaEU\"\n",
    "        resp = self.http_request_with_scheme_id(end_point, scheme, instruments)\n",
    "        return self._convert_response_to_object(resp)\n",
    "\n",
    "    def instrument_BASELIII_HQLA_CH(self, scheme:str, instruments: list):\n",
    "        end_point = \"/v1/instruments/_regulatoryData/baseliiihqlaCH\"\n",
    "        resp = self.http_request_with_scheme_id(end_point, scheme, instruments)\n",
    "        return self._convert_response_to_object(resp)\n",
    "\n",
    "    def instrument_SFDR(self, scheme:str, instruments: list):\n",
    "        end_point = \"/v1/instruments/esg/SFDRInvestee\"\n",
    "        resp = self.http_request_with_scheme_id(end_point, scheme, instruments)\n",
    "        return self._convert_response_to_object(resp)\n",
    "\n",
    "    def instrument_TAXONOMY(self, scheme:str, instruments: list):\n",
    "        end_point = \"/v1/instruments/esg/EUTaxonomyInvestee\"\n",
    "        resp = self.http_request_with_scheme_id(end_point, scheme, instruments)\n",
    "        return self._convert_response_to_object(resp)\n",
    "\n",
    "    def instrument_EUESGMANUFACTURER(self, scheme:str, instruments: list):\n",
    "        end_point = \"/v1/instruments/esg/EUESGManufacturer\"\n",
    "        resp = self.http_request_with_scheme_id(end_point, scheme, instruments)\n",
    "        return self._convert_response_to_object(resp)\n",
    "    \n",
    "    def institution_summary(self, scheme:str, institutions: list):\n",
    "        end_point = \"/v1/institutions/referenceData/institutionSummary\"\n",
    "        resp = self.http_request_with_scheme_id(end_point, scheme, institutions)\n",
    "        return self._convert_response_to_object(resp)\n",
    "\n",
    "    def institution_symbology(self, scheme:str, institutions: list):\n",
    "        end_point = \"/v1/institutions/referenceData/institutionSymbology\"\n",
    "        resp = self.http_request_with_scheme_id(end_point, scheme, institutions)\n",
    "        return self._convert_response_to_object(resp)\n",
    "    \n",
    "    def institution_SFDR(self, scheme:str, institutions: list):\n",
    "        end_point = \"/v1/institutions/esg/SFDRInvestee\"\n",
    "        resp = self.http_request_with_scheme_id(end_point, scheme, institutions)\n",
    "        return self._convert_response_to_object(resp)\n",
    "\n",
    "    def institution_TAXONOMY(self, scheme:str, institutions: list):\n",
    "        end_point = \"/v1/institutions/esg/EUTaxonomyInvestee\"\n",
    "        resp = self.http_request_with_scheme_id(end_point, scheme, institutions)\n",
    "        return self._convert_response_to_object(resp)\n",
    "\n",
    "    def market_summary(self, scheme:str, markets: list):\n",
    "        end_point = \"/v1/markets/referenceData/marketSummary\"\n",
    "        resp = self.http_request_with_scheme_id(end_point, scheme, markets)\n",
    "        return self._convert_response_to_object(resp)\n",
    "    \n",
    "    def market_symboloy(self, scheme:str, markets: list):\n",
    "        end_point = \"/v1/markets/referenceData/marketSymbology\"\n",
    "        resp = self.http_request_with_scheme_id(end_point, scheme, markets)\n",
    "        return self._convert_response_to_object(resp)\n",
    "\n",
    "    def listing_EoDTimeseries(self, scheme:str, listings: list, from_date:str, to_date:str = ''):\n",
    "        end_point = \"/v1/listings/marketData/eodTimeseries\"\n",
    "        query_string = query_string = { \n",
    "            'scheme': scheme,\n",
    "            'ids': \",\".join(listings),\n",
    "            'from': from_date,\n",
    "            'to': to_date\n",
    "        }\n",
    "        resp = self.http_request(end_point, query_string)    \n",
    "        return self._convert_response_to_object(resp)\n",
    "    \n",
    "findata = FinancialDataAPI()"
   ]
  },
  {
   "cell_type": "code",
   "execution_count": null,
   "metadata": {},
   "outputs": [],
   "source": [
    "def print_object_attributes(obj:object, tab_level:int=0, min_attr_length:int=30):\n",
    "    if obj is None: return\n",
    "    space_sep = \"  \"\n",
    "    space = space_sep*tab_level\n",
    "    \n",
    "    if type(obj) == list:\n",
    "        for o in obj:\n",
    "            if type(o) == object or type(o) == SimpleNamespace:\n",
    "                print_object_attributes(o, tab_level+1, min_attr_length)\n",
    "                print()\n",
    "            else:\n",
    "                print(f\"{space}{o:<{min_attr_length}}\")\n",
    "    else:\n",
    "        for attr, value in obj.__dict__.items():\n",
    "            if type(value) == object or type(value) == SimpleNamespace or type(value) == list:\n",
    "                print(f\"{space}{attr}\")\n",
    "\n",
    "                adjusted_min_attr_length = min_attr_length - (len(space_sep)*(tab_level+1))\n",
    "                if adjusted_min_attr_length < 0: adjusted_min_attr_length = 0\n",
    "                print_object_attributes(value, tab_level+1, adjusted_min_attr_length)\n",
    "            else:\n",
    "                print(f\"{space}{attr:<{min_attr_length}}: {value}\")      "
   ]
  },
  {
   "cell_type": "code",
   "execution_count": null,
   "metadata": {
    "scrolled": true
   },
   "outputs": [],
   "source": [
    "obj = findata.text_search(\"apple\")\n",
    "print_object_attributes(obj, 0)"
   ]
  },
  {
   "cell_type": "code",
   "execution_count": null,
   "metadata": {
    "scrolled": false
   },
   "outputs": [],
   "source": [
    "%time obj = findata.instrument_summary(\"ISIN\", [\"BE6342120662\", \"BE6342099452\", \"BE6342102488\"])\n",
    "print_object_attributes(obj, 0)"
   ]
  },
  {
   "cell_type": "code",
   "execution_count": null,
   "metadata": {
    "scrolled": true
   },
   "outputs": [],
   "source": [
    "obj = findata.institution_summary(\"LEI\", [\"HWUPKR0MPOU8FGXBT394\"])\n",
    "print_object_attributes(obj, 0)"
   ]
  },
  {
   "cell_type": "code",
   "execution_count": null,
   "metadata": {},
   "outputs": [],
   "source": [
    "obj = findata.instrument_BASELIII_HQLA_CH(\"ISIN\", [\"CH0559601544\"])\n",
    "print_object_attributes(obj, 0)"
   ]
  },
  {
   "cell_type": "code",
   "execution_count": null,
   "metadata": {},
   "outputs": [],
   "source": [
    "obj = findata.instrument_BASELIII_HQLA_EU(\"ISIN\", [\"CH0559601544\"])\n",
    "print_object_attributes(obj, 0)"
   ]
  },
  {
   "cell_type": "code",
   "execution_count": null,
   "metadata": {},
   "outputs": [],
   "source": [
    "obj = findata.instrument_SFDR(\"ISIN\", [\"CH0559601544\"])\n",
    "print_object_attributes(obj, 0)"
   ]
  },
  {
   "cell_type": "code",
   "execution_count": null,
   "metadata": {},
   "outputs": [],
   "source": [
    "obj = findata.instrument_TAXONOMY(\"ISIN\", [\"CH0559601544\"])\n",
    "print_object_attributes(obj, 0)"
   ]
  },
  {
   "cell_type": "code",
   "execution_count": null,
   "metadata": {},
   "outputs": [],
   "source": [
    "obj = findata.instrument_EUESGMANUFACTURER(\"ISIN\", [\"CH0559601544\"])\n",
    "print_object_attributes(obj, 0)"
   ]
  },
  {
   "cell_type": "code",
   "execution_count": null,
   "metadata": {},
   "outputs": [],
   "source": [
    "obj = findata.instrument_symbology(\"ISIN\", [\"CH0559601544\"])\n",
    "print_object_attributes(obj, 0)"
   ]
  },
  {
   "cell_type": "code",
   "execution_count": null,
   "metadata": {},
   "outputs": [],
   "source": [
    "obj = findata.institution_SFDR(\"LEI\", [\"HWUPKR0MPOU8FGXBT394\"])\n",
    "print_object_attributes(obj, 0)"
   ]
  },
  {
   "cell_type": "code",
   "execution_count": null,
   "metadata": {},
   "outputs": [],
   "source": [
    "obj = findata.institution_TAXONOMY(\"LEI\", [\"HWUPKR0MPOU8FGXBT394\"])\n",
    "print_object_attributes(obj, 0)"
   ]
  },
  {
   "cell_type": "code",
   "execution_count": null,
   "metadata": {},
   "outputs": [],
   "source": [
    "obj = findata.market_summary(\"BC\", [\"67\"])\n",
    "print_object_attributes(obj, 0)"
   ]
  },
  {
   "cell_type": "code",
   "execution_count": null,
   "metadata": {},
   "outputs": [],
   "source": [
    "obj = findata.market_symboloy(\"BC\", [\"67\"])\n",
    "print_object_attributes(obj, 0)"
   ]
  },
  {
   "cell_type": "code",
   "execution_count": null,
   "metadata": {},
   "outputs": [],
   "source": [
    "obj = findata.listing_EoDTimeseries(\"VALOR_BC\", [\"1222171_4\"], \"2022-07-01\")\n",
    "print_object_attributes(obj, 0)"
   ]
  },
  {
   "cell_type": "code",
   "execution_count": null,
   "metadata": {},
   "outputs": [],
   "source": []
  }
 ],
 "metadata": {
  "kernelspec": {
   "display_name": "Python 3",
   "language": "python",
   "name": "python3"
  },
  "language_info": {
   "codemirror_mode": {
    "name": "ipython",
    "version": 3
   },
   "file_extension": ".py",
   "mimetype": "text/x-python",
   "name": "python",
   "nbconvert_exporter": "python",
   "pygments_lexer": "ipython3",
   "version": "3.7.6"
  }
 },
 "nbformat": 4,
 "nbformat_minor": 4
}
